{
 "cells": [
  {
   "cell_type": "code",
   "execution_count": null,
   "metadata": {},
   "outputs": [],
   "source": []
  },
  {
   "cell_type": "code",
   "execution_count": 1,
   "metadata": {},
   "outputs": [
    {
     "name": "stderr",
     "output_type": "stream",
     "text": [
      "C:\\Anaconda3\\envs\\nlpiaenv\\lib\\site-packages\\sklearn\\utils\\deprecation.py:143: FutureWarning: The sklearn.datasets.samples_generator module is  deprecated in version 0.22 and will be removed in version 0.24. The corresponding classes / functions should instead be imported from sklearn.datasets. Anything that cannot be imported from sklearn.datasets is now part of the private API.\n",
      "  warnings.warn(message, FutureWarning)\n"
     ]
    }
   ],
   "source": [
    "from sklearn.datasets.samples_generator import make_blobs\n",
    "from tensorflow.keras.models import Sequential\n",
    "from tensorflow.keras.layers import Dense\n",
    "from tensorflow.keras.optimizers import SGD\n",
    "from tensorflow.keras.utils import to_categorical\n",
    "from matplotlib import pyplot"
   ]
  },
  {
   "cell_type": "code",
   "execution_count": null,
   "metadata": {},
   "outputs": [],
   "source": []
  },
  {
   "cell_type": "code",
   "execution_count": 2,
   "metadata": {},
   "outputs": [],
   "source": [
    "# prepare multi-class classification dataset\n",
    "def create_dataset():\n",
    "    \n",
    "    # generate 2d classification dataset\n",
    "    X, y = make_blobs(n_samples=1000, centers=20, n_features=100, cluster_std=2,random_state=2)\n",
    "\n",
    "    # one hot encode output variable\n",
    "    y = to_categorical(y)\n",
    "\n",
    "    # split into train and test\n",
    "    n_train = 500\n",
    "    trainX, testX = X[:n_train, :], X[n_train:, :]\n",
    "    trainy, testy = y[:n_train], y[n_train:]\n",
    "    return trainX, trainy, testX, testy"
   ]
  },
  {
   "cell_type": "code",
   "execution_count": null,
   "metadata": {},
   "outputs": [],
   "source": []
  },
  {
   "cell_type": "code",
   "execution_count": 3,
   "metadata": {},
   "outputs": [],
   "source": [
    "# fit model with given number of layers, returns test set accuracy\n",
    "def evaluate_model(n_layers, trainX, trainy, testX, testy):\n",
    "    \n",
    "    # configure the model based on the data\n",
    "    n_input, n_classes = trainX.shape[1], testy.shape[1]\n",
    "\n",
    "    # define model\n",
    "    model = Sequential()\n",
    "    model.add(Dense(10, input_dim=n_input, activation='relu',kernel_initializer='he_uniform'))\n",
    "\n",
    "    for _ in range(1, n_layers):\n",
    "        model.add(Dense(10, activation='relu', kernel_initializer='he_uniform'))\n",
    "        \n",
    "        \n",
    "    model.add(Dense(n_classes, activation='softmax'))\n",
    "\n",
    "    # compile model\n",
    "    opt = SGD(lr=0.01, momentum=0.9)\n",
    "    model.compile(loss='categorical_crossentropy', optimizer=opt, metrics=['accuracy'])\n",
    "\n",
    "    # fit model\n",
    "    history = model.fit(trainX, trainy, epochs=100, verbose=0)\n",
    "\n",
    "    # evaluate model on test set\n",
    "    _, test_acc = model.evaluate(testX, testy, verbose=0)\n",
    "    return history, test_acc"
   ]
  },
  {
   "cell_type": "code",
   "execution_count": null,
   "metadata": {},
   "outputs": [],
   "source": []
  },
  {
   "cell_type": "code",
   "execution_count": 4,
   "metadata": {},
   "outputs": [],
   "source": [
    "# get dataset\n",
    "trainX, trainy, testX, testy = create_dataset()"
   ]
  },
  {
   "cell_type": "code",
   "execution_count": null,
   "metadata": {},
   "outputs": [],
   "source": []
  },
  {
   "cell_type": "code",
   "execution_count": 6,
   "metadata": {},
   "outputs": [
    {
     "name": "stdout",
     "output_type": "stream",
     "text": [
      "layers=1: 1.000\n",
      "layers=2: 1.000\n",
      "layers=3: 0.998\n",
      "layers=4: 0.996\n",
      "layers=5: 0.190\n"
     ]
    },
    {
     "data": {
      "image/png": "[encoded data removed]",
      "text/plain": [
       "<Figure size 432x288 with 1 Axes>"
      ]
     },
     "metadata": {
      "needs_background": "light"
     },
     "output_type": "display_data"
    }
   ],
   "source": [
    "# evaluate model and plot learning curve of model with given number of layers\n",
    "all_history = list()\n",
    "num_layers = [1, 2, 3, 4, 5]\n",
    "\n",
    "\n",
    "for n_layers in num_layers:\n",
    "    \n",
    "    # evaluate model with a given number of layers\n",
    "    history, result = evaluate_model(n_layers, trainX, trainy, testX, testy)\n",
    "    print('layers=%d: %.3f' % (n_layers, result))\n",
    "    # plot learning curve\n",
    "    pyplot.plot(history.history['loss'], label=str(n_layers))\n",
    "    \n",
    "pyplot.legend()\n",
    "pyplot.show()    "
   ]
  },
  {
   "cell_type": "code",
   "execution_count": 8,
   "metadata": {},
   "outputs": [
    {
     "data": {
      "text/plain": [
       "dict_keys(['loss', 'accuracy'])"
      ]
     },
     "execution_count": 8,
     "metadata": {},
     "output_type": "execute_result"
    }
   ],
   "source": [
    "history.history.keys()"
   ]
  },
  {
   "cell_type": "code",
   "execution_count": 7,
   "metadata": {},
   "outputs": [
    {
     "data": {
      "text/plain": [
       "dict_items([('loss', [3.3464579582214355, 2.4239118099212646, 1.8917609453201294, 1.4564570188522339, 1.0433491468429565, 0.8515125513076782, 0.8615700602531433, 0.675504744052887, 0.625942587852478, 1.3104220628738403, 1.5297553539276123, 0.9506508708000183, 0.6238152980804443, 0.621292769908905, 0.7336775064468384, 0.5191766619682312, 0.3397945165634155, 0.3326111435890198, 1.352791428565979, 1.122241497039795, 1.372398853302002, 1.5307649374008179, 1.325407862663269, 1.4077568054199219, 1.0734655857086182, 0.7993379831314087, 0.7197130918502808, 0.6939966678619385, 0.5812088847160339, 0.5712010860443115, 0.5014315843582153, 0.45529866218566895, 0.4021606147289276, 0.4164987802505493, 0.3679329454898834, 0.35099780559539795, 0.35936471819877625, 0.3765353560447693, 0.3355504274368286, 0.2980523407459259, 0.27511927485466003, 0.2675536572933197, 0.26034724712371826, 0.28576335310935974, 0.2960267961025238, 0.2562466263771057, 0.2518247961997986, 0.24015608429908752, 0.23902437090873718, 0.2532395124435425, 0.24836702644824982, 0.25058218836784363, 0.22352848947048187, 0.20250390470027924, 0.20403367280960083, 0.1994456797838211, 0.1985081434249878, 0.1795172393321991, 0.17398057878017426, 0.1928475797176361, 0.19926880300045013, 0.17939184606075287, 0.15951290726661682, 0.14506933093070984, 0.13491497933864594, 0.15176576375961304, 0.139984130859375, 0.1280023753643036, 0.12157705426216125, 0.19988198578357697, 0.5478081703186035, 0.7407243847846985, 0.3971402645111084, 0.3229556977748871, 0.25638753175735474, 0.22825881838798523, 0.23134876787662506, 0.26556020975112915, 0.19125035405158997, 2.2388417720794678, 5.133271217346191, 3.021005153656006, 3.0418951511383057, 2.9557788372039795, 2.8951969146728516, 2.859994411468506, 2.885359048843384, 2.863859176635742, 2.789158344268799, 2.709209442138672, 2.650057554244995, 2.6267404556274414, 2.595271348953247, 2.5726866722106934, 2.5564374923706055, 2.5354106426239014, 2.5155670642852783, 2.4984724521636963, 2.483171224594116, 2.471101760864258]), ('accuracy', [0.07999999821186066, 0.1979999989271164, 0.3140000104904175, 0.4620000123977661, 0.6380000114440918, 0.6800000071525574, 0.6520000100135803, 0.7519999742507935, 0.7639999985694885, 0.699999988079071, 0.5699999928474426, 0.6439999938011169, 0.7680000066757202, 0.7599999904632568, 0.7799999713897705, 0.7739999890327454, 0.8899999856948853, 0.8859999775886536, 0.7300000190734863, 0.6779999732971191, 0.5979999899864197, 0.5099999904632568, 0.5799999833106995, 0.5360000133514404, 0.6119999885559082, 0.6420000195503235, 0.7020000219345093, 0.734000027179718, 0.7179999947547913, 0.7620000243186951, 0.765999972820282, 0.8360000252723694, 0.8460000157356262, 0.8579999804496765, 0.9039999842643738, 0.8799999952316284, 0.8679999709129333, 0.8920000195503235, 0.8899999856948853, 0.9020000100135803, 0.9279999732971191, 0.9359999895095825, 0.9200000166893005, 0.906000018119812, 0.8980000019073486, 0.9259999990463257, 0.9279999732971191, 0.9200000166893005, 0.9300000071525574, 0.921999990940094, 0.9039999842643738, 0.906000018119812, 0.9520000219345093, 0.9599999785423279, 0.9539999961853027, 0.949999988079071, 0.9599999785423279, 0.9700000286102295, 0.9779999852180481, 0.9639999866485596, 0.9259999990463257, 0.9539999961853027, 0.972000002861023, 0.9739999771118164, 0.9700000286102295, 0.9359999895095825, 0.9639999866485596, 0.9559999704360962, 0.9760000109672546, 0.9639999866485596, 0.9120000004768372, 0.8579999804496765, 0.8880000114440918, 0.9380000233650208, 0.9440000057220459, 0.9419999718666077, 0.9279999732971191, 0.9300000071525574, 0.9399999976158142, 0.8379999995231628, 0.2460000067949295, 0.1940000057220459, 0.15399999916553497, 0.14800000190734863, 0.19200000166893005, 0.20200000703334808, 0.1940000057220459, 0.19200000166893005, 0.19200000166893005, 0.1940000057220459, 0.24400000274181366, 0.19599999487400055, 0.1979999989271164, 0.1979999989271164, 0.1979999989271164, 0.1979999989271164, 0.1979999989271164, 0.1979999989271164, 0.1979999989271164, 0.1940000057220459])])"
      ]
     },
     "execution_count": 7,
     "metadata": {},
     "output_type": "execute_result"
    }
   ],
   "source": [
    "history.history.items()"
   ]
  },
  {
   "cell_type": "code",
   "execution_count": null,
   "metadata": {},
   "outputs": [],
   "source": []
  },
  {
   "cell_type": "code",
   "execution_count": null,
   "metadata": {},
   "outputs": [],
   "source": [
    "'''In this case, we can see that the model is capable of learning the problem well with up to\n",
    "three layers, then begins to falter. We can see that performance really drops with five layers\n",
    "and is expected to continue to fall if the number of layers is increased further.'''"
   ]
  },
  {
   "cell_type": "code",
   "execution_count": null,
   "metadata": {},
   "outputs": [],
   "source": []
  },
  {
   "cell_type": "code",
   "execution_count": null,
   "metadata": {},
   "outputs": [],
   "source": [
    "'''A line plot is also created showing cross-entropy loss on the training dataset for each model\n",
    "configuration (1 to 5 layers) over the 100 training epochs. We can see that the dynamics of the\n",
    "model with 1, 2, and 3 models (blue, orange and green) are pretty similar, learning the problem\n",
    "quickly. Surprisingly, training loss with four and five layers shows signs of initially doing well,\n",
    "then leaping up, suggesting that the model is likely stuck with a sub-optimal set of weights\n",
    "rather than overfitting the training dataset.'''"
   ]
  },
  {
   "cell_type": "code",
   "execution_count": null,
   "metadata": {},
   "outputs": [],
   "source": []
  },
  {
   "cell_type": "code",
   "execution_count": null,
   "metadata": {},
   "outputs": [],
   "source": [
    "'''The analysis shows that increasing the capacity of the model via increasing depth is a very\n",
    "effective tool that must be used with caution as it can quickly result in a model with a large\n",
    "capacity that may not be capable of learning the training dataset easily.'''"
   ]
  }
 ],
 "metadata": {
  "kernelspec": {
   "display_name": "Python 3",
   "language": "python",
   "name": "python3"
  },
  "language_info": {
   "codemirror_mode": {
    "name": "ipython",
    "version": 3
   },
   "file_extension": ".py",
   "mimetype": "text/x-python",
   "name": "python",
   "nbconvert_exporter": "python",
   "pygments_lexer": "ipython3",
   "version": "3.7.1"
  }
 },
 "nbformat": 4,
 "nbformat_minor": 4
}
